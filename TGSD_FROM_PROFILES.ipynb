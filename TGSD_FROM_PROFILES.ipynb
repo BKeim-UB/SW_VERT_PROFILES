{
  "cells": [
    {
      "cell_type": "markdown",
      "metadata": {
        "id": "view-in-github",
        "colab_type": "text"
      },
      "source": [
        "<a href=\"https://colab.research.google.com/github/BKeim-UB/SW_VERT_PROFILES/blob/main/TGSD_FROM_PROFILES.ipynb\" target=\"_parent\"><img src=\"https://colab.research.google.com/assets/colab-badge.svg\" alt=\"Open In Colab\"/></a>"
      ]
    },
    {
      "cell_type": "markdown",
      "id": "12c541aa",
      "metadata": {
        "id": "12c541aa"
      },
      "source": [
        "## COMPUTE VERTICAL PROFILES AND TGSD\n",
        "\n",
        "This script computes vertical profiles for the velocity and volumetric concentration of particles given depth-averaged values in terms of:\n",
        "\n",
        "- flow thickness $h$;\n",
        "- depth-averaged velocity $u_{avg}$ or depth-averaged mass flux $(\\rho u)_{avg}$;\n",
        "- total depth-averaged volumetric fraction of particles $\\alpha_s^{tot}$;\n",
        "- TGSD parameters (mean size $\\mu$ and standard deviation $\\sigma$ in phi scale.\n",
        "\n",
        "The density of solid particles changes linearly in the phi scale between a minimum a maximum value, defined by additional input parameters:\n",
        "$$\n",
        "\\rho(\\phi) = \\begin{cases}\n",
        "    \\rho_1 & \\text{if } \\phi<\\phi_1 \\\\\n",
        "    \\rho_1 + \\frac{\\phi - \\phi1}{\\phi_2 - \\phi1} \\rho_2 & \\text{if } \\phi_1\\leq \\phi\\leq \\phi_1 \\\\\n",
        "    \\rho_2 & \\text{if } \\phi>\\phi_2\n",
        "\\end{cases}\n",
        "$$\n",
        "\n",
        "In addition, density and kinematic visocisty of the gas and gravitational acceleration should be provided.\n",
        "\n",
        "These parameters are defined in the next code block."
      ]
    },
    {
      "cell_type": "code",
      "execution_count": null,
      "id": "531d1bf0",
      "metadata": {
        "id": "531d1bf0"
      },
      "outputs": [],
      "source": [
        "%reset -f\n",
        "\n",
        "# flow thickness [m]\n",
        "h = 145.50\n",
        "\n",
        "# depth averaged velocity [m/s]\n",
        "u_avg = 1.15e2\n",
        "# u_avg = 75.23557876694905\n",
        "# u_avg = 66.93331999075606\n",
        "\n",
        "# depth-averaged u(z)*rhom(z)  [kg/(m2 s)]\n",
        "# uRho_avg = 894.409442921292\n",
        "\n",
        "# Total volumetric fraction of solid particles\n",
        "alphas_tot = 1.41e-3\n",
        "\n",
        "\n",
        "# depth-averaged mixture density [kg/m3]\n",
        "# rhom = 17.888\n",
        "\n",
        "# The TGSD is defined by a normal distribution in the phi scale\n",
        "# Parameters of the normal TGSD\n",
        "mu = 1\n",
        "sig = 1.0\n",
        "\n",
        "# Particle Densities parameters:\n",
        "phi1 = -2\n",
        "rho1 = 1750.0\n",
        "phi2 = 1\n",
        "rho2 = 1750.0\n",
        "\n",
        "# Classes of particle sizes\n",
        "phi_min = 2\n",
        "phi_max = 2\n",
        "nsolid = 1\n",
        "\n",
        "# Pressure [Pa]\n",
        "pres = 101300\n",
        "\n",
        "# Specific gas constant of gas mixture (units: J kg-1 K-1)\n",
        "sp_gas_const = 287.051\n",
        "\n",
        "# Mixture temperature [k]\n",
        "temp = 709\n",
        "\n",
        "# gas kinematic viscosity [m2/s]\n",
        "kin_visc = 1.48e-5\n",
        "\n",
        "# gravitational acceleration [m/s2]\n",
        "grav = 9.81\n",
        "\n",
        "# Von Karman constant\n",
        "k = 0.4\n",
        "\n",
        "# friction coefficient\n",
        "friction_coeff = 0.003\n",
        "\n",
        "# substrate roughness [m]\n",
        "k_s = 1.5\n",
        "\n",
        "# ratio of momentum and mass diffusivity (Schmidt number)\n",
        "beta_sc = 1.0\n",
        "\n",
        "# parameters for the convergence of the iterative solution procedure\n",
        "rel_tol = 1.e-10\n",
        "abs_tol = 1.e-8"
      ]
    },
    {
      "cell_type": "code",
      "execution_count": null,
      "id": "5ba6c168",
      "metadata": {
        "id": "5ba6c168",
        "colab": {
          "base_uri": "https://localhost:8080/"
        },
        "outputId": "60503b8a-52bc-4baf-8bfb-a7e25d0c4862"
      },
      "outputs": [
        {
          "output_type": "stream",
          "name": "stdout",
          "text": [
            "Using u_avg\n",
            "Using alphas_tot\n"
          ]
        }
      ],
      "source": [
        "# check on input\n",
        "if ('uRho_avg' in locals()) and ('u_avg' in locals()):\n",
        "\n",
        "    print('Please specify ONLY one among u_avg or uRho_avg')\n",
        "\n",
        "elif 'u_avg' in locals():\n",
        "\n",
        "    print('Using u_avg')\n",
        "\n",
        "elif 'uRho_avg' in locals():\n",
        "\n",
        "    print('Using uRho_avg')\n",
        "\n",
        "else:\n",
        "\n",
        "    print('Please specify one among u_avg or uRho_avg')\n",
        "\n",
        "if ('rhom' in locals()) and ('alphas_tot' in locals()):\n",
        "\n",
        "    print('Please specify ONLY one among rhom or alphas_tot')\n",
        "\n",
        "elif 'rhom' in locals():\n",
        "\n",
        "    print('Using rhom')\n",
        "\n",
        "elif 'alphas_tot' in locals():\n",
        "\n",
        "    print('Using alphas_tot')\n",
        "\n",
        "else:\n",
        "\n",
        "    print('Please specify one among rhom or alphas_tot')\n"
      ]
    },
    {
      "cell_type": "markdown",
      "id": "d2142dea",
      "metadata": {
        "id": "d2142dea"
      },
      "source": [
        "Several Python packages are needed."
      ]
    },
    {
      "cell_type": "code",
      "execution_count": null,
      "id": "7b7a1128",
      "metadata": {
        "id": "7b7a1128"
      },
      "outputs": [],
      "source": [
        "# Import Libraries\n",
        "\n",
        "import scipy.special as sc\n",
        "from mpmath import * ; mp.dps = 15 ; mp.pretty = True\n",
        "import numpy as np\n",
        "import matplotlib.pyplot as plt\n",
        "from scipy.special import lambertw # imports the lambert function and returns complex result\n",
        "from scipy import integrate        # allows us to use the exponential integral function\n",
        "from scipy.stats import norm\n",
        "from google.colab import files\n"
      ]
    },
    {
      "cell_type": "markdown",
      "id": "a3a35975",
      "metadata": {
        "id": "a3a35975"
      },
      "source": [
        "The function *Settling_Velocity()* in the following block takes the inputs:\n",
        "\n",
        "• rhos - The density of each solid class $\\left(\\frac{kg}{m^3}\\right)$\n",
        "\n",
        "• rhog - The density of the gas phase $\\left(\\frac{kg}{m^3}\\right)$\n",
        "\n",
        "• diam - The diameter of each class of particles (meters)\n",
        "\n",
        "• grav - The gravitational Constant - 9.81 $\\left(\\frac{m}{s^2}\\right)$\n",
        "\n",
        "• kin_visc - The Kinematic Viscosity of gas (units)\n",
        "\n",
        "\n",
        "If the density of the solid phase is less than the gasous phase, a check is included which sets the settling velocity to 0.\n",
        "\n",
        "Otherwise, the settling velocity is computed via the following function:"
      ]
    },
    {
      "cell_type": "markdown",
      "source": [
        "The settling velocity, as a function of the size of the particles, satisfy the following relationship:\n",
        "\n",
        "$$\n",
        "    v_s(d_s) = \\sqrt{\\frac{4}{3} \\frac{d_s g}{C_D({\\rm Re})} \\left(\\frac{\\rho_s-\\rho_a}{\\rho_a}\\right)}.\n",
        "$$\n",
        "\n",
        "Please note that the drag coefficient $C_D$ is a function of the Reynolds number $Re== \\frac{d_s v_s}{\\nu}$, and thus of the settling velocity, through the following equation.\n",
        "\n",
        "$$\n",
        "C_D({\\rm Re}) = \\frac{24}{\\rm Re} \\left( 1 + 0.15 {\\rm Re}^{0.687} \\right)\n",
        "$$\n",
        "\n",
        "For this reason, the following function adopts an iterative procedure to compute the settling velocity."
      ],
      "metadata": {
        "id": "-JXWnKT8FlYQ"
      },
      "id": "-JXWnKT8FlYQ"
    },
    {
      "cell_type": "code",
      "execution_count": null,
      "id": "1c4e523f",
      "metadata": {
        "id": "1c4e523f"
      },
      "outputs": [],
      "source": [
        "# Settling Velocity\n",
        "\n",
        "def settling_velocity(rhos, rhog, diam, grav, kin_visc):\n",
        "\n",
        "    inv_sqrt_C_D = 1.0\n",
        "    settl_vel = np.zeros_like(rhos)\n",
        "    for i in range(0, len(phi)):\n",
        "\n",
        "        if rhos[i] <= rhog:\n",
        "            settl_vel[i] = 0.0\n",
        "\n",
        "        else:\n",
        "\n",
        "            const_part = np.sqrt(0.75 * (rhos[i] / rhog - 1.0) * diam[i] *\n",
        "                                 grav)\n",
        "            settl_vel[i] = const_part * inv_sqrt_C_D\n",
        "            Rey = diam[i] * settl_vel[i] / kin_visc\n",
        "\n",
        "            for j in range(20):\n",
        "                inv_sqrt_C_D = np.sqrt(Rey / (24.0 *\n",
        "                                              (1.0 + 0.15 * Rey**0.687)))\n",
        "                settl_vel[i] = const_part * inv_sqrt_C_D\n",
        "                Rey = diam[i] * settl_vel[i] / kin_visc\n",
        "\n",
        "    return settl_vel"
      ]
    },
    {
      "cell_type": "markdown",
      "id": "ca668b20",
      "metadata": {
        "id": "ca668b20"
      },
      "source": [
        "The next function compute the relative mass fractions of the solid classes from the parameters of the size distribution."
      ]
    },
    {
      "cell_type": "code",
      "execution_count": null,
      "id": "e8765c41",
      "metadata": {
        "id": "e8765c41"
      },
      "outputs": [],
      "source": [
        "# Total Grain Size Distribution\n",
        "def TGSD(mu, sig, phi):\n",
        "    n_bins = len(phi)\n",
        "    xs = norm.cdf(0.5 * (phi[0:len(phi) - 1] + phi[1:len(phi)]), mu, sig)\n",
        "    xs = np.append(xs, [1])\n",
        "    xs[1:len(phi)] = np.diff(xs)\n",
        "\n",
        "    return xs"
      ]
    },
    {
      "cell_type": "markdown",
      "source": [
        "This function compute the density of a class of particles, given the size in the phi scale.\n",
        "\n",
        "$$\n",
        "\\rho(\\phi) = \\begin{cases}\n",
        "    \\rho_1 & \\text{if } \\phi<\\phi_1 \\\\\n",
        "    \\rho_1 + \\frac{\\phi - \\phi1}{\\phi_2 - \\phi1} \\rho_2 & \\text{if } \\phi_1\\leq \\phi\\leq \\phi_1 \\\\\n",
        "    \\rho_2 & \\text{if } \\phi>\\phi_2\n",
        "\\end{cases}\n",
        "$$"
      ],
      "metadata": {
        "id": "KalS2-kEHITX"
      },
      "id": "KalS2-kEHITX"
    },
    {
      "cell_type": "code",
      "execution_count": null,
      "id": "e1ebbf74",
      "metadata": {
        "id": "e1ebbf74"
      },
      "outputs": [],
      "source": [
        "# Particle Density Computation\n",
        "def part_dens(phi, phi1, rho1, phi2, rho2):\n",
        "\n",
        "    rhos = rho1 * (phi < phi1) + (phi >= phi1) * (\n",
        "        rho1 + (rho2 - rho1) * np.minimum(1.0, (phi - phi1) / (phi2 - phi1)))\n",
        "\n",
        "    return rhos"
      ]
    },
    {
      "cell_type": "code",
      "execution_count": null,
      "id": "ec93bab8",
      "metadata": {
        "id": "ec93bab8"
      },
      "outputs": [],
      "source": [
        "# Compute average profiles\n",
        "\n",
        "def avg_profiles_mix(h, settl_vel, k, friction_coeff, rhoalpha_avg, u_guess,\n",
        "                     beta_sc, h0, b, u_coeff, u_rel0, rhos, rhog):\n",
        "\n",
        "    u_star = u_guess * np.sqrt(friction_coeff)\n",
        "    Pn = settl_vel / (k * u_star)\n",
        "    nsolid = len(settl_vel)\n",
        "    rho_u_alphas = np.zeros(nsolid)\n",
        "    rhoalphas_int = np.zeros(nsolid)\n",
        "\n",
        "    for i in range(len(settl_vel)):\n",
        "\n",
        "        d_bl = h0\n",
        "        # epsilon_s = beta_sc * u_star * d_bl / (6.0 * (k * d_bl + k_s / 10.0))\n",
        "        epsilon_s = beta_sc * u_star * k * ((d_bl/6.0) + (k_s / 60.0))\n",
        "        a = -(k * u_star * Pn[i]) / epsilon_s\n",
        "\n",
        "        # average-integral of c(z):\n",
        "        # - exp(a*z) between 0 and h0\n",
        "        # - exp(a*h0) between h0 and h\n",
        "        int_ = ((np.exp(a * h0) - 1.0) / a + np.exp(a * h0) * (h - h0)) / h\n",
        "\n",
        "        normalizing_coeff = 1.0 / int_\n",
        "\n",
        "        # normalizing_coeff*c(z) has depth-average = 1\n",
        "\n",
        "        # value of the normalized profile at h0\n",
        "        # this is the true concentration at h0 divided by\n",
        "        # the depth-averaged concentration\n",
        "        alphas_rel0 = normalizing_coeff * np.exp(a * h0)\n",
        "\n",
        "        y = h0\n",
        "        int_h0 = (np.exp(a * y) * np.log(b * y + 1.0) +\n",
        "                  np.exp(-a / b) * sc.exp1(-a * (y + 1.0 / b))) / a\n",
        "\n",
        "        y = 0\n",
        "        int_0 = (np.exp(a * y) * np.log(b * y + 1.0) +\n",
        "                 np.exp(-a / b) * sc.exp1(-a * (y + 1.0 / b))) / a\n",
        "\n",
        "        int_def = u_coeff * np.sqrt(friction_coeff) / \\\n",
        "            k * normalizing_coeff * (int_h0-int_0)\n",
        "\n",
        "        rho_u_alphas[i] = rhoalpha_avg[i] * u_guess * \\\n",
        "            (int_def + (h - h0) * alphas_rel0 * u_rel0) / h\n",
        "\n",
        "    rhom_avg = rhog + sum((rhos - rhog) / rhos * rhoalpha_avg)\n",
        "    uRho_avg_new = (u_guess * rhog + sum((rhos - rhog) / rhos * rho_u_alphas))\n",
        "\n",
        "    return rhom_avg, uRho_avg_new"
      ]
    },
    {
      "cell_type": "markdown",
      "id": "7bdd739e",
      "metadata": {
        "id": "7bdd739e"
      },
      "source": [
        "# Code and Outputs"
      ]
    },
    {
      "cell_type": "code",
      "execution_count": null,
      "id": "324af3e0",
      "metadata": {
        "id": "324af3e0",
        "colab": {
          "base_uri": "https://localhost:8080/"
        },
        "outputId": "6926a3c9-efa1-4641-8e58-43d7c87a7e2f"
      },
      "outputs": [
        {
          "output_type": "stream",
          "name": "stdout",
          "text": [
            "Particles diameter d [ 1 ] in meters              = 0.00025\n",
            "Gas density (kg/m3) 0.49774183667887506\n",
            "Settling velocity for class [ 1 ]              = 1.781011116538942\n",
            "Mixture density computed from mass fractions (kg/m3)                    = 2.9645400206891575\n",
            "Depth-averaged alpha(1) computed from xs [ 1 ]              = 0.00141\n",
            "Total solid depth-averaged volume fraction computed from mass fractions = 0.0014099999999999998\n"
          ]
        }
      ],
      "source": [
        "# Numpy array of phi solid classes\n",
        "phi = np.linspace(phi_min, phi_max, nsolid)\n",
        "\n",
        "# Relative mass fractions of the particle classes (sum=1)\n",
        "xs_rel = TGSD(mu, sig, phi)\n",
        "\n",
        "# Density of the solid classes\n",
        "rhos = part_dens(phi, phi1, rho1, phi2, rho2)\n",
        "\n",
        "# Average density of solid particles [kg/m3]\n",
        "rhos_tot = 1.0 / (sum(xs_rel / rhos))\n",
        "\n",
        "# Particles diameters [m]\n",
        "diam = (1.0e-3) * 2**(-phi)\n",
        "\n",
        "for i in range(0, nsolid):\n",
        "    print('Particles diameter d', '[', i + 1, '] in meters',\n",
        "          '             =', round(diam[i], 15))\n",
        "\n",
        "\n",
        "# Gas density [kg/m3]\n",
        "rhog = pres / ( sp_gas_const * temp )\n",
        "\n",
        "print('Gas density (kg/m3)',rhog)\n",
        "\n",
        "# Particles settling velocities [m/s]\n",
        "settl_vel = settling_velocity(rhos, rhog, diam, grav, kin_visc)\n",
        "\n",
        "for i in range(0, nsolid):\n",
        "    print('Settling velocity for class', '[', i + 1, ']',\n",
        "          '             =', round(settl_vel[i], 15))\n",
        "\n",
        "if 'rhom' in locals():\n",
        "\n",
        "    # total volume fraction of solid in the gas-solid mixture\n",
        "    alphas_tot = ( rhom - rhog ) / ( rhos_tot - rhog )\n",
        "\n",
        "    print('Total solid volume fraction computed from rhom',\n",
        "      '                   =', alphas_tot)\n",
        "\n",
        "else:\n",
        "\n",
        "    # Gas-particles mixture density [kg/m3]\n",
        "    rhom = alphas_tot * rhos_tot + (1.0 - alphas_tot) * rhog\n",
        "\n",
        "    print('Mixture density computed from mass fractions (kg/m3)',\n",
        "      '                   =', rhom)\n",
        "\n",
        "# Total solid mass fraction [kg/kg]\n",
        "xs_tot = alphas_tot * rhos_tot / rhom\n",
        "\n",
        "# Solid mass fraction of solid classes in the mixture [kg/kg]\n",
        "xs = xs_rel * xs_tot\n",
        "\n",
        "\n",
        "# Depth-averaged volumetric fractions\n",
        "alpha_avg = xs / rhos * rhom\n",
        "\n",
        "for i in range(0, nsolid):\n",
        "    print('Depth-averaged alpha(1) computed from xs', '[', i + 1, ']',\n",
        "          '             =', round(alpha_avg[i], 15))\n",
        "\n",
        "print(\n",
        "    'Total solid depth-averaged volume fraction computed from mass fractions =',\n",
        "    sum(alpha_avg))\n",
        "\n",
        "# this is the depth-averaged value of rhos*alpha(z), which is equal to the\n",
        "# depth-averaged  value  of xs*rhom(z). So it is the conservative variable\n",
        "# used for the solid mass divided by h.\n",
        "rhoAlpha_avg = rhos * alpha_avg\n"
      ]
    },
    {
      "cell_type": "markdown",
      "source": [
        "The thickness of the turbulent boundary layer and the presence (or absence) of a free-stream region depends on several factors. It can be shown that there exists a critical flow thickness $H_{crit}$, above which a free-stream region is required, while below the critical thickness the velocity has a logarithmic profile for the entire flow thickness. This critical thickness is given by\n",
        "\n",
        "$$\n",
        "H_{crit} = \\frac{k_s}{30} \\left( \\frac{a}{{W}(-ae^{-a})} - 1 \\right),\n",
        "$$\n",
        "\n",
        "where $a = \\frac{\\kappa}{\\sqrt{C_f}}$ and ${W}$ is the Lambert function.\n",
        "\n",
        "It is easier to work with a non-dimensional height $h^{rel}=\\frac{h}{k_s}$, which also results in a non-dimensional critical thickness:\n",
        "$$\n",
        "H_{crit}^{rel} = \\frac{1}{30} \\left( \\frac{a}{{W}(-ae^{-a})} - 1 \\right).\n",
        "$$"
      ],
      "metadata": {
        "id": "QpR2h6xmI4qh"
      },
      "id": "QpR2h6xmI4qh"
    },
    {
      "cell_type": "code",
      "source": [
        "# H_crit is a critical thickness above  which there is a constant free stream\n",
        "# velocity. Below  H_crit  we  only  have  the  log  profile. H_crit is a\n",
        "# function of k, k_s and friction_coeff only. H_crit_rel  is  the\n",
        "# non-dimensional crtitical thickness, which depends on k and the friction\n",
        "# coefficient only\n",
        "\n",
        "# The profile parameters depend on h/k_s, not on the absolute value of h.\n",
        "h_rel = h / k_s\n",
        "\n",
        "a = k / np.sqrt(friction_coeff) + 1.0\n",
        "print('a',a,k,friction_coeff)\n",
        "H_crit_rel = np.real(1.0 / 30.0 * (-a / lambertw(-a * np.exp(-a)) - 1.0))\n",
        "print('Critical thickness (meters)    =', round(H_crit_rel * k_s, 13))"
      ],
      "metadata": {
        "id": "swla4U9kI2k5",
        "colab": {
          "base_uri": "https://localhost:8080/"
        },
        "outputId": "24e02522-8f3f-493b-e005-a462374c87ab"
      },
      "id": "swla4U9kI2k5",
      "execution_count": null,
      "outputs": [
        {
          "output_type": "stream",
          "name": "stdout",
          "text": [
            "a 8.302967433402216 0.4 0.003\n",
            "Critical thickness (meters)    = 201.3259584644918\n"
          ]
        }
      ]
    },
    {
      "cell_type": "markdown",
      "source": [
        "We define now the relative thickness of the turbulent boundary layer which is:\n"
      ],
      "metadata": {
        "id": "N9a0HhFtJ8PO"
      },
      "id": "N9a0HhFtJ8PO"
    },
    {
      "cell_type": "code",
      "execution_count": null,
      "id": "b2cc1504",
      "metadata": {
        "id": "b2cc1504",
        "colab": {
          "base_uri": "https://localhost:8080/"
        },
        "outputId": "cb8f2a75-a778-4f6c-a584-070eb00530c8"
      },
      "outputs": [
        {
          "output_type": "stream",
          "name": "stdout",
          "text": [
            "Boundary layer thickness (m) =  145.5\n"
          ]
        }
      ],
      "source": [
        "if (h_rel > H_crit_rel):\n",
        "\n",
        "    # we search for h0_rel such that the average integral between 0 and\n",
        "    # h_rel is equal to 1. For h_rel > H_crit_rel  this  integral is the\n",
        "    # sum of  two  pieces:  integral  between  0  and h0_rel of the log\n",
        "    # profile integral between h0_rel and h_rel of  the costant profile\n",
        "\n",
        "    a = h_rel * k / np.sqrt(friction_coeff)\n",
        "    b = 1.0 / 30.0 + h_rel\n",
        "    c = 30.0\n",
        "\n",
        "    # solve b*log(c*z+1)-z=a for z\n",
        "    d = a / b - 1.0 / (b * c)\n",
        "\n",
        "    h0_rel = np.real(-b * lambertw(-np.exp(d) / (b * c)) - 1.0 / c)\n",
        "    u_coeff = 1.0\n",
        "\n",
        "else:\n",
        "\n",
        "    # when h_rel <= H_crit_rel we have only the log profile and we have to\n",
        "    # rescale it in order to have the integral between o and h_rel equal to 1\n",
        "    # The factor used to scale the velocity is u_coeff\n",
        "\n",
        "    h0_rel = h_rel\n",
        "    u_coeff = k / np.sqrt(friction_coeff) / (\n",
        "        (1 + 1 / (30 * h_rel)) * np.log(30.0 * h_rel + 1.0) - 1.0)\n",
        "\n",
        "h0 = h0_rel * k_s\n",
        "\n",
        "print('Boundary layer thickness (m) = ',h0)\n",
        "\n",
        "b = 30.0 / k_s\n",
        "u_rel0 = u_coeff * np.sqrt(friction_coeff) / k * np.log(b * h0 + 1.0)"
      ]
    },
    {
      "cell_type": "code",
      "execution_count": null,
      "id": "4febd948",
      "metadata": {
        "id": "4febd948"
      },
      "outputs": [],
      "source": [
        "if 'uRho_avg' in locals():\n",
        "\n",
        "    # search convergence of u_avg\n",
        "    n = 200\n",
        "\n",
        "    u_avg_guess = uRho_avg / rhom\n",
        "    x0 = u_avg_guess\n",
        "\n",
        "    # loop to compute the average velocity from average rho*alpha and average\n",
        "    # uRho ( = 1/h*int( u*rhog*alphag + sum[u*rhos(i)*alphas(i)] ) )\n",
        "    print()\n",
        "    #     avg_profiles_mix function returns ([rhom_avg,uRho_avg_new])\n",
        "\n",
        "    for i in range(0, n):\n",
        "\n",
        "        x0 = u_avg_guess\n",
        "\n",
        "        rhom_avg, uRho_avg_new = avg_profiles_mix(h, settl_vel, k,\n",
        "                                                  friction_coeff, rhoAlpha_avg,\n",
        "                                                  u_avg_guess, beta_sc, h0, b,\n",
        "                                                  u_coeff, u_rel0, rhos, rhog)\n",
        "\n",
        "        u_avg_new = u_avg_guess * uRho_avg / (uRho_avg_new)\n",
        "\n",
        "        x1 = u_avg_new\n",
        "\n",
        "        rhom_avg, uRho_avg_new = avg_profiles_mix(h, settl_vel, k,\n",
        "                                                  friction_coeff, rhoAlpha_avg,\n",
        "                                                  u_avg_new, beta_sc, h0, b,\n",
        "                                                  u_coeff, u_rel0, rhos, rhog)\n",
        "\n",
        "        u_avg_new = u_avg_new * uRho_avg / (uRho_avg_new)\n",
        "\n",
        "        x2 = u_avg_new\n",
        "\n",
        "        if (x1 != x0):\n",
        "            # OPTIONAL: Computes an approximation of |f'(fixedPoint)|, which is\n",
        "            # denoted by lambda\n",
        "            lambda_ = abs((x2 - x1) / (x1 - x0))\n",
        "\n",
        "        denominator = (x2 - x1) - (x1 - x0)\n",
        "\n",
        "        # To avoid greatly increasing error, do not divide by too small of a\n",
        "        # number\n",
        "        if (abs(denominator) < 0.1 * abs_tol):\n",
        "            print('')\n",
        "            print('                     –––––––                      ')\n",
        "            print('****************** Ending Loop *******************')\n",
        "            print('******** WARNING: denominator is too small *******')\n",
        "            break  # Leave the loop\n",
        "\n",
        "        aitkenX = x2 - ((x2 - x1)**2) / denominator\n",
        "\n",
        "        u_avg_new = aitkenX\n",
        "\n",
        "        if (abs(u_avg_guess - u_avg_new) / u_avg_guess <\n",
        "                rel_tol) or (abs(u_avg_guess - u_avg_new) < abs_tol):\n",
        "            u_avg_guess = u_avg_new\n",
        "\n",
        "        u_avg_guess = u_avg_new\n",
        "\n",
        "        print('Iteration #', i + 1, '–––> u_guess =', round(u_avg_new, 14),\n",
        "              ' m/s')\n",
        "\n",
        "    print('                     –––––––                      ')\n",
        "    print('                                                         ')\n",
        "    print('Total Iterations           = ', i)\n",
        "    print('u_final                    = ', round(u_avg_new, 13), 'm/s')\n",
        "    print('Depth-averaged rho         = ', round(rhom_avg, 12), 'kg/m3')\n",
        "\n",
        "    # average velocity\n",
        "    u_avg = u_avg_new\n",
        "\n",
        "rhom_avg, uRho_avg = avg_profiles_mix(h, settl_vel, k, friction_coeff,\n",
        "                                      rhoAlpha_avg, u_avg, beta_sc, h0, b,\n",
        "                                      u_coeff, u_rel0, rhos, rhog)\n",
        "\n",
        "# shear velocty\n",
        "u_star = u_avg * np.sqrt(friction_coeff)\n",
        "\n",
        "# Rouse numbers for different particles\n",
        "Pn = settl_vel / (k * u_star)"
      ]
    },
    {
      "cell_type": "code",
      "execution_count": null,
      "id": "34be080b",
      "metadata": {
        "id": "34be080b",
        "colab": {
          "base_uri": "https://localhost:8080/"
        },
        "outputId": "e5405c4a-fac4-4140-e248-98d27dcef382"
      },
      "outputs": [
        {
          "output_type": "stream",
          "name": "stdout",
          "text": [
            "\n",
            "Depht-averaged values obtained by analytic integral\n",
            "Depth-averaged u (m/s)            =  115.00000000000003\n",
            "Depth-averaged rho (kg/m3)        =  2.964540020689158\n",
            "Depth-averaged alphas [ 0 ]       =  0.00141\n",
            "Depth-averaged alpha              =  0.00141\n",
            "Depth-averaged u*alpha            =  0.13783839956858\n",
            "Depth-averaged rho*u (kg m-2 s-1) =  298.3889025249196\n",
            "D-a.rho * D-a.u (kg m-2 s-1)      =  340.92210237925326\n"
          ]
        }
      ],
      "source": [
        "## Check for average values, computed from u_avg and alpha_avg(i)\n",
        "\n",
        "# average velocity computed as integral of the profile\n",
        "U_int = ((u_coeff * u_avg * np.sqrt(friction_coeff) / k *\n",
        "          ((h0 + 1.0 / b) * np.log(b * h0 + 1) - h0) + (h - h0) * u_rel0)) / h\n",
        "\n",
        "print()\n",
        "print('Depht-averaged values obtained by analytic integral')\n",
        "print('Depth-averaged u (m/s)            = ', round(U_int, 15))\n",
        "print('Depth-averaged rho (kg/m3)        = ', round(rhom_avg, 15))\n",
        "\n",
        "uAlpha_int = np.zeros(nsolid)\n",
        "uRhoAlpha_int = np.zeros(nsolid)\n",
        "\n",
        "alpha_int_tot = 0.0\n",
        "\n",
        "for i in range(0, nsolid):\n",
        "\n",
        "    d_bl = h0\n",
        "    # epsilon_s = beta_sc * u_star * d_bl / (6.0 * (k * d_bl + k_s / 10.0))\n",
        "    epsilon_s = beta_sc * u_star * k * ((d_bl/6.0) + (k_s / 60.0))\n",
        "    a = -(k * u_star * Pn[i]) / epsilon_s\n",
        "\n",
        "    # depth-average of c(z)=exp(a*z), proportional to the concentration profile\n",
        "    alphas_exp_avg = ((np.exp(a * h0) - 1.0) / a + np.exp(a * h0) * (h-h0)) / h\n",
        "\n",
        "    # normalizing_coeff*c(z) has depth-average = 1\n",
        "    # in this way if we multiply by the avg value we obtain the\n",
        "    # desired profile: c_avg * normalizing_coeff * c(z)\n",
        "    normalizing_coeff = 1.0 / alphas_exp_avg\n",
        "\n",
        "    # average concentration of particle class i\n",
        "    alpha_int = alpha_avg[i] * normalizing_coeff * alphas_exp_avg\n",
        "\n",
        "    alpha_int_tot += alpha_int\n",
        "\n",
        "    print('Depth-averaged alphas [', i, ']       = ', round(alpha_int, 15))\n",
        "\n",
        "    # value of the normalized profile at h0\n",
        "    # this is the true concentration at h0 divided by\n",
        "    # the depth-averaged concentration\n",
        "    alpha_rel0 = normalizing_coeff * np.exp(a * h0)\n",
        "    alpha0 = alpha_avg[i] * alpha_rel0\n",
        "\n",
        "    y = h0\n",
        "    int_h0 = (np.exp(a * y) * np.log(b * y + 1.0) +\n",
        "              np.exp(-a / b) * sc.exp1(-a * (y + 1.0 / b))) / a\n",
        "\n",
        "    y = 0\n",
        "    int_0 = (np.exp(a * y) * np.log(b * y + 1.0) +\n",
        "             np.exp(-a / b) * sc.exp1(-a * (y + 1.0 / b))) / a\n",
        "\n",
        "    # integral of\n",
        "    int_def1 = ( u_coeff * u_avg * np.sqrt(friction_coeff) / \\\n",
        "        k ) * ( alpha_avg[i] * normalizing_coeff ) * (int_h0-int_0)\n",
        "\n",
        "    int_def2 = ( u_avg * u_rel0 ) * alpha0 * (h - h0)\n",
        "\n",
        "    # average of u*alphas(i)\n",
        "    uAlpha_int[i] = ( int_def1 + int_def2 ) / h\n",
        "    uRhoAlpha_int[i] = rhos[i] * ( int_def1 + int_def2 ) / h\n",
        "\n",
        "\n",
        "\n",
        "print('Depth-averaged alpha              = ',round(alpha_int_tot,15)    )\n",
        "\n",
        "\n",
        "uAlpha_int_tot = sum(uAlpha_int)\n",
        "uRhoAlpha_int_tot = sum(uRhoAlpha_int)\n",
        "rho_u_int_tot = rhog * U_int + sum((rhos - rhog) / rhos * uRhoAlpha_int)\n",
        "\n",
        "print('Depth-averaged u*alpha            = ',round(uAlpha_int_tot,15)    )\n",
        "print('Depth-averaged rho*u (kg m-2 s-1) = ', rho_u_int_tot)\n",
        "print('D-a.rho * D-a.u (kg m-2 s-1)      = ',round(U_int*rhom_avg, 15))"
      ]
    },
    {
      "cell_type": "markdown",
      "source": [
        "In the cell above, the integrals hava been computed analytically. This is possible for the profiles used here for the velocity and the concentration (logarithmic and exponential, respectively), but for more complex profiles the computation of the integral can be more complex. In this case, quadrature formulas can be used.\n",
        "\n",
        "Here we show the result of the application of a quadrature formula for the following depth-averaged value:\n",
        "\n",
        "$$\n",
        "\\sum \\frac{1}{h}\\int_0^h \\alpha_{s,i}(z) u(z) dz\n",
        "$$\n",
        "\n",
        "and we compute the relative error with respect to the value computed above.\n"
      ],
      "metadata": {
        "id": "D7ryL6-jho41"
      },
      "id": "D7ryL6-jho41"
    },
    {
      "cell_type": "code",
      "execution_count": null,
      "metadata": {
        "id": "3ecdc524",
        "colab": {
          "base_uri": "https://localhost:8080/"
        },
        "outputId": "37452cb9-e856-4a60-f9c0-ad763a504a14"
      },
      "outputs": [
        {
          "output_type": "stream",
          "name": "stdout",
          "text": [
            "b 20.0 3.963517261975491\n",
            "int_quad 200.79119654047105\n",
            "Depth-averaged u*c =  0.13784147980269668 (m/s)\n",
            "Relative error =  2.2346705462660947e-05\n"
          ]
        },
        {
          "output_type": "stream",
          "name": "stderr",
          "text": [
            "/usr/local/lib/python3.10/dist-packages/scipy/integrate/_quadrature.py:370: AccuracyWarning: maxiter (50) exceeded. Latest difference = 4.542678e-04\n",
            "  warnings.warn(\n"
          ]
        }
      ],
      "source": [
        "uAlpha_avg = 0.0\n",
        "\n",
        "for i in range(0, nsolid):\n",
        "\n",
        "    d_bl = h0\n",
        "    # epsilon_s = beta_sc * u_star * d_bl / (6.0 * (k * d_bl + k_s / 10.0))\n",
        "    epsilon_s = beta_sc * u_star * k * ((d_bl/6.0) + (k_s / 60.0))\n",
        "    a = -(k * u_star * Pn[i]) / epsilon_s\n",
        "    alphas_exp_avg = ((np.exp(a * h0) - 1.0) / a + np.exp(a * h0) * (h-h0)) / h\n",
        "\n",
        "    normalizing_coeff = 1.0 / alphas_exp_avg\n",
        "\n",
        "    # value of the normalized profile at h0\n",
        "    # this is the true concentration at h0 divided by\n",
        "    # the depth-averaged concentration\n",
        "    alpha_rel0 = normalizing_coeff * np.exp(a * h0)\n",
        "    alpha0 = alpha_avg[i] * alpha_rel0\n",
        "\n",
        "    # use use a quadrature formula for the log region\n",
        "    def f(z):\n",
        "        return np.exp(a * z) * (np.log(b * z + 1.0))\n",
        "\n",
        "    int_quad = integrate.quadrature(f, 0, h0)[0]\n",
        "\n",
        "    # integral of\n",
        "    int_def1 = ( u_coeff * u_avg * np.sqrt(friction_coeff) / \\\n",
        "        k ) * ( alpha_avg[i] * normalizing_coeff ) \\\n",
        "        * int_quad\n",
        "\n",
        "    print('b',b,f(10))\n",
        "    print('int_quad',int_quad)\n",
        "\n",
        "    int_def2 = ( u_avg * u_rel0 ) * alpha0 * (h - h0)\n",
        "\n",
        "    uAlpha_avg = uAlpha_avg + ( int_def1 + int_def2 ) / h\n",
        "\n",
        "print('Depth-averaged u*c = ', uAlpha_avg, '(m/s)')\n",
        "print('Relative error = ', (uAlpha_avg-uAlpha_int_tot)/uAlpha_int_tot)"
      ],
      "id": "3ecdc524"
    },
    {
      "cell_type": "code",
      "execution_count": null,
      "id": "1f19c385",
      "metadata": {
        "scrolled": true,
        "id": "1f19c385",
        "colab": {
          "base_uri": "https://localhost:8080/"
        },
        "outputId": "be8da55a-adfa-4746-9d08-7c2080d7e707"
      },
      "outputs": [
        {
          "output_type": "stream",
          "name": "stdout",
          "text": [
            "(alpha_bottom [ 0 ]) / (alpha_avg [ 0 ]) = 4.299065454238953\n"
          ]
        }
      ],
      "source": [
        "nz = 5000\n",
        "z = np.linspace(0, h, nz+1)\n",
        "dz = h / nz\n",
        "\n",
        "# u_rel is the velocity profile with depth-average equal to 1 when u_rel is\n",
        "# multiplied by u the depth-averaged value is the desired one u_rel is defined\n",
        "# for 0<=z<=h_rel, thus it is  defined  for  the  rescaled  depth.  This  does\n",
        "# not affect the depth-average value\n",
        "\n",
        "u_rel = u_coeff * np.sqrt(friction_coeff) / k * \\\n",
        "    np.log(b*np.minimum(h0, z) + 1.0)\n",
        "\n",
        "# u_rel_half = 0.5*(u_rel(2:end)+u_rel(1:end-1))\n",
        "\n",
        "uualpha = np.zeros_like(z)\n",
        "ualpha = np.zeros_like(z)\n",
        "\n",
        "p_dyn = np.zeros_like(z)\n",
        "rho = np.zeros_like(z)\n",
        "alphas_bottom = np.zeros(nsolid)\n",
        "alphag = np.ones_like(z)\n",
        "\n",
        "ualpha_rel = np.ones_like(z)\n",
        "\n",
        "\n",
        "for i in range(0, nsolid):\n",
        "\n",
        "    d_bl = h0\n",
        "    # epsilon_s = beta_sc * u_star * d_bl / (6.0 * (k * d_bl + k_s / 10.0))\n",
        "    epsilon_s = beta_sc * u_star * k * ((d_bl/6.0) + (k_s / 60.0))\n",
        "    a = -(k * u_star * Pn[i]) / epsilon_s\n",
        "\n",
        "    int_ = ((np.exp(a * h0) - 1.0) / a + np.exp(a * h0) * (h - h0)) / h\n",
        "    normalizing_coeff = 1.0 / int_\n",
        "    alphas_bottom[i] = normalizing_coeff * alpha_avg[i]\n",
        "\n",
        "    print('(alpha_bottom [', i, '])', '/ (alpha_avg [', i, '])', '=',\n",
        "          normalizing_coeff)\n",
        "\n",
        "    alpha_rel = normalizing_coeff * np.exp(a * (np.minimum(h0, z)))\n",
        "\n",
        "    alphag = alphag - alpha_rel * alpha_avg[i]\n",
        "\n",
        "    rho += alpha_rel * alpha_avg[i] * rhos[i]\n",
        "    p_dyn += 0.5 * (alpha_rel * alpha_avg[i] *\n",
        "                    rhos[i]) * (u_avg * u_rel) * (u_avg * u_rel)\n",
        "\n",
        "p_dyn += 0.5 * (alphag * rhog) * (u_avg * u_rel) * (u_avg * u_rel)\n",
        "rho += alphag * rhog"
      ]
    },
    {
      "cell_type": "code",
      "execution_count": null,
      "id": "c613eb20",
      "metadata": {
        "id": "c613eb20",
        "colab": {
          "base_uri": "https://localhost:8080/"
        },
        "outputId": "04da624f-65d2-4219-bb1b-ac6f3c153cd7"
      },
      "outputs": [
        {
          "output_type": "stream",
          "name": "stdout",
          "text": [
            "Mean size at bottom = 2.0\n"
          ]
        }
      ],
      "source": [
        "# Mixture density at the bottom\n",
        "rhom_bottom = sum(alphas_bottom * rhos) + (1.0 - sum(alphas_bottom)) * rhog\n",
        "\n",
        "# Solid mass fractions (in the mixture) at the bottom\n",
        "xs_bottom = (alphas_bottom * rhos) / rhom_bottom\n",
        "\n",
        "# Gas mass fraction (in the mixture) at the bottom\n",
        "xg_bottom = 1.0 - sum(xs_bottom)\n",
        "\n",
        "# Relative solid mass fractions at the bottom (sum=1 => TGSD)\n",
        "xs_rel_bottom = xs_bottom / (1.0 - xg_bottom)\n",
        "\n",
        "# Mean size of TGSD at the bottom\n",
        "mu_bottom = sum(phi * xs_rel_bottom)\n",
        "\n",
        "print('Mean size at bottom =', mu_bottom)"
      ]
    },
    {
      "cell_type": "code",
      "execution_count": null,
      "id": "7b6d69f6",
      "metadata": {
        "id": "7b6d69f6",
        "colab": {
          "base_uri": "https://localhost:8080/"
        },
        "outputId": "0c7602b8-dad0-4314-9397-a27a154158c8"
      },
      "outputs": [
        {
          "output_type": "stream",
          "name": "stdout",
          "text": [
            "Mean size lost at the base of the flow = phi \n",
            " 2.0\n"
          ]
        }
      ],
      "source": [
        "# Rates of mass lost from the flow at the bottom (propirtional to density,\n",
        "\n",
        "# volume fraction at the bottom and settling velocity)\n",
        "xs_rel_lost = (rhos * alphas_bottom * settl_vel)\n",
        "\n",
        "# Normalization to have sum=1 (TGSD)\n",
        "xs_rel_lost = (xs_rel_lost / sum(xs_rel_lost))\n",
        "\n",
        "# Mean side of TGSD lost at the base of the flow\n",
        "mu_lost = sum(phi * xs_rel_lost)\n",
        "\n",
        "print('Mean size lost at the base of the flow = phi \\n', mu_lost)"
      ]
    },
    {
      "cell_type": "code",
      "execution_count": null,
      "id": "8ccc9218",
      "metadata": {
        "id": "8ccc9218",
        "colab": {
          "base_uri": "https://localhost:8080/",
          "height": 880
        },
        "outputId": "258a43da-8242-4072-c1b2-add2884e370a"
      },
      "outputs": [
        {
          "name": "stdout",
          "output_type": "stream",
          "text": [
            "Averages as mean of profile values (1/n*Sum(x_i))\n",
            "Mean(u):  114.989987167819\n",
            "Depth and solid-avergaed (u):  100.615078855192\n",
            "Mean(rhom):  2.965122510879586\n",
            "Mean(alpha_tot):  0.0014103329462352562\n",
            "Mean(u*alpha_tot):  0.137811029799971\n",
            "Mean(rhom*u):  298.336035247453\n",
            "Mean(rhom)*Mean(u):  340.959399477055\n",
            "Flux coefficient:  0.874989912889993\n",
            "Save the figure as pdf (Y/N):N\n"
          ]
        },
        {
          "output_type": "display_data",
          "data": {
            "text/plain": [
              "<Figure size 1200x800 with 6 Axes>"
            ],
            "image/png": "[encoded data removed]"
          },
          "metadata": {}
        }
      ],
      "source": [
        "ylim = 100.0\n",
        "\n",
        "plt.rcParams['figure.figsize'] = [12, 8]\n",
        "plt.rcParams['figure.dpi'] = 100\n",
        "\n",
        "fig, (ax1, ax2, ax3, ax4, ax5, ax6) = plt.subplots(1, 6)\n",
        "\n",
        "u_rel = u_coeff * sqrt(friction_coeff) / k * \\\n",
        "    np.log(b*np.minimum(h0, z) + 1.0)\n",
        "\n",
        "ax1.plot(u_avg * u_rel,z,'b-')\n",
        "ax1.plot(np.ones(nz+1)*u_avg,z,'b--')\n",
        "\n",
        "ax1.set(xlabel='u [m/s]', ylabel='h [m]')\n",
        "\n",
        "ax1.set_ylim(0, ylim)\n",
        "# ax1.set_xlim(0, 145)\n",
        "\n",
        "alpha_tot = 0\n",
        "\n",
        "for i in range(nsolid):\n",
        "\n",
        "    d_bl = h0\n",
        "    # epsilon_s = beta_sc * u_star * d_bl / (6.0 * (k * d_bl + k_s / 10.0))\n",
        "    epsilon_s = beta_sc * u_star * k * ((d_bl/6.0) + (k_s / 60.0))\n",
        "    a = -(k * u_star * Pn[i]) / epsilon_s\n",
        "\n",
        "    int_ = ((np.exp(a * h0) - 1.0) / a + np.exp(a * h0) * (h - h0)) / h\n",
        "\n",
        "    normalizing_coeff = 1.0 / int_\n",
        "\n",
        "    alpha_rel = normalizing_coeff * np.exp(a * (np.minimum(h0, z)))\n",
        "\n",
        "    ualpha = ualpha + (u_avg * u_rel) * (alpha_avg[i] * alpha_rel)\n",
        "\n",
        "    uualpha = uualpha + (u_avg * u_rel) * (u_avg * u_rel) * (alpha_avg[i] *\n",
        "                                                             alpha_rel)\n",
        "\n",
        "    alpha_tot += alpha_avg[i] * alpha_rel\n",
        "\n",
        "    ax2.plot(alpha_avg[i] * alpha_rel, z)\n",
        "\n",
        "    ax3.plot((u_avg * u_rel) * (alpha_avg[i] * alpha_rel) * rhos[i], z)\n",
        "\n",
        "ax2.set(xlabel='alpha')\n",
        "ax2.set_ylim(0, ylim)\n",
        "# ax2.set_xlim(0, 7.4e-3)\n",
        "ax2.ticklabel_format(style='sci', axis='x', scilimits=(0,0))\n",
        "ax2.yaxis.set_ticklabels([])\n",
        "\n",
        "ax3.set(xlabel='u*alpha*rhos')\n",
        "ax3.set_ylim(0, ylim)\n",
        "# ax3.set_xlim(0,950)\n",
        "ax3.yaxis.set_ticklabels([])\n",
        "\n",
        "\n",
        "ax4.plot(rho, z,'b-')\n",
        "ax4.plot(rhom*np.ones(nz+1),z,'b--')\n",
        "ax4.set(xlabel='rho')\n",
        "ax4.set_ylim(0, ylim)\n",
        "# ax4.set_xlim(0,14)\n",
        "ax4.yaxis.set_ticklabels([])\n",
        "\n",
        "ax5.plot(rho * u_avg * u_rel, z,'b-')\n",
        "ax5.plot(np.mean(rho * u_avg * u_rel)*np.ones(nz+1),z,'b--')\n",
        "ax5.plot(np.mean(rho) * np.mean(u_avg * u_rel)*np.ones(nz+1),z,'b:')\n",
        "ax5.set(xlabel='rho*u')\n",
        "ax5.set_ylim(0, ylim)\n",
        "# ax5.set_xlim(0, 950)\n",
        "ax5.yaxis.set_ticklabels([])\n",
        "\n",
        "\n",
        "ax6.plot(p_dyn, z,'b-')\n",
        "\n",
        "p_dyn_avg1 = np.mean(p_dyn)\n",
        "p_dyn_avg2 = 0.5*rhom*u_avg**2\n",
        "\n",
        "ax6.plot(p_dyn_avg1*np.ones(nz+1), z,'b--')\n",
        "ax6.plot(p_dyn_avg2*np.ones(nz+1), z,'b:')\n",
        "\n",
        "\n",
        "ax6.set(xlabel='P_{dyn} [Pa]')\n",
        "ax6.set_ylim(0, ylim)\n",
        "# ax6.set_xlim(0, 45000)\n",
        "ax6.yaxis.set_ticklabels([])\n",
        "\n",
        "print(\"Averages as mean of profile values (1/n*Sum(x_i))\")\n",
        "\n",
        "print(\"Mean(u): \",np.mean(u_avg * u_rel))\n",
        "print(\"Depth and solid-avergaed (u): \",np.mean(u_avg * u_rel*rho)/np.mean(rho))\n",
        "print(\"Mean(rhom): \",np.mean(rho))\n",
        "print(\"Mean(alpha_tot): \",np.mean(alpha_tot))\n",
        "print(\"Mean(u*alpha_tot): \",np.mean(ualpha))\n",
        "print(\"Mean(rhom*u): \",np.mean(rho * u_avg * u_rel))\n",
        "print(\"Mean(rhom)*Mean(u): \", np.mean(rho) * np.mean(u_avg * u_rel))\n",
        "print(\"Flux coefficient: \",np.mean(rho * u_avg * u_rel) /\n",
        "      ( np.mean(rho) * np.mean(u_avg * u_rel) ) )\n",
        "\n",
        "save_figure = input('Save the figure as pdf (Y/N):')\n",
        "if (save_figure == \"Y\"):\n",
        "    plt.savefig(\"profiles.pdf\")\n",
        "    files.download(\"profiles.pdf\")"
      ]
    },
    {
      "cell_type": "code",
      "execution_count": null,
      "id": "c28dfd4e",
      "metadata": {
        "id": "c28dfd4e",
        "colab": {
          "base_uri": "https://localhost:8080/"
        },
        "outputId": "f30474f5-a4c3-471a-fbf5-f47f1b28b536"
      },
      "outputs": [
        {
          "output_type": "stream",
          "name": "stdout",
          "text": [
            "Mean size at bottom = 2.0\n"
          ]
        }
      ],
      "source": [
        "# Mixture density at the bottom\n",
        "rhom_bottom = sum(alphas_bottom * rhos) + (1.0 - sum(alphas_bottom)) * rhog\n",
        "\n",
        "# Solid mass fractions (in the mixture) at the bottom\n",
        "xs_bottom = (alphas_bottom * rhos) / rhom_bottom\n",
        "\n",
        "# Gas mass fraction (in the mixture) at the bottom\n",
        "xg_bottom = 1.0 - sum(xs_bottom)\n",
        "\n",
        "# Relative solid mass fractions at the bottom (sum=1 => TGSD)\n",
        "xs_rel_bottom = xs_bottom / (1.0 - xg_bottom)\n",
        "\n",
        "# Mean size of TGSD at the bottom\n",
        "mu_bottom = sum(phi * xs_rel_bottom)\n",
        "print('Mean size at bottom =', mu_bottom)"
      ]
    },
    {
      "cell_type": "code",
      "execution_count": null,
      "id": "7cc7debc",
      "metadata": {
        "id": "7cc7debc",
        "colab": {
          "base_uri": "https://localhost:8080/"
        },
        "outputId": "7eb0c4a5-63cb-410a-84b9-fe86f63272f6"
      },
      "outputs": [
        {
          "output_type": "stream",
          "name": "stdout",
          "text": [
            "Mean size lost at the base of the flow = #e phi \n",
            " 2.0\n"
          ]
        }
      ],
      "source": [
        "# Rates of mass lost from the flow at the bottom (propirtional to density,\n",
        "# volume fraction at the bottom and settling velocity)\n",
        "xs_rel_lost = (rhos * alphas_bottom * settl_vel)\n",
        "# Normalization to have sum=1 (TGSD)\n",
        "xs_rel_lost = (xs_rel_lost / sum(xs_rel_lost))\n",
        "\n",
        "# Mean side of TGSD lost at the base of the flow\n",
        "mu_lost = sum(phi * xs_rel_lost)\n",
        "\n",
        "print('Mean size lost at the base of the flow = #e phi \\n', mu_lost)"
      ]
    },
    {
      "cell_type": "code",
      "execution_count": null,
      "id": "02b1ecc5",
      "metadata": {
        "id": "02b1ecc5",
        "colab": {
          "base_uri": "https://localhost:8080/",
          "height": 694
        },
        "outputId": "f3ccdc93-f60d-438b-a706-560686c115b5"
      },
      "outputs": [
        {
          "name": "stdout",
          "output_type": "stream",
          "text": [
            "Save the figure as pdf (Y/N):N\n"
          ]
        },
        {
          "output_type": "display_data",
          "data": {
            "text/plain": [
              "<Figure size 1200x800 with 1 Axes>"
            ],
            "image/png": "[encoded data removed]"
          },
          "metadata": {}
        }
      ],
      "source": [
        "fig\n",
        "barwidth = 0.125\n",
        "\n",
        "phi_avg = phi\n",
        "phi_bottom = phi\n",
        "phi_lost = phi\n",
        "\n",
        "phi_avg = phi - barwidth * (1.125)\n",
        "phi_bottom = phi\n",
        "phi_lost = phi + barwidth * (1.125)\n",
        "\n",
        "plt.bar(phi_avg, xs_rel, label='Average (mu=%.2f)'%mu, width=barwidth,\n",
        "        color='tab:blue')\n",
        "plt.bar(phi_bottom,\n",
        "        xs_bottom,\n",
        "        label='Bottom  (mu=%.2f)'%mu_bottom,\n",
        "        width=barwidth,\n",
        "        color='orangered')\n",
        "plt.bar(\n",
        "    phi_lost,\n",
        "    xs_rel_lost,\n",
        "    label='Lost (mu (mu=%.2f)'%mu_lost,\n",
        "    width=barwidth,\n",
        "    color='gold',\n",
        ")\n",
        "\n",
        "plt.legend(loc='upper left')\n",
        "\n",
        "save_figure = input('Save the figure as pdf (Y/N):')\n",
        "if (save_figure == \"Y\"):\n",
        "    plt.savefig(\"TGSD.pdf\")\n",
        "    files.download(\"TGSD.pdf\")"
      ]
    }
  ],
  "metadata": {
    "kernelspec": {
      "display_name": "Python 3 (ipykernel)",
      "language": "python",
      "name": "python3"
    },
    "language_info": {
      "codemirror_mode": {
        "name": "ipython",
        "version": 3
      },
      "file_extension": ".py",
      "mimetype": "text/x-python",
      "name": "python",
      "nbconvert_exporter": "python",
      "pygments_lexer": "ipython3",
      "version": "3.9.13"
    },
    "colab": {
      "provenance": [],
      "include_colab_link": true
    }
  },
  "nbformat": 4,
  "nbformat_minor": 5
}