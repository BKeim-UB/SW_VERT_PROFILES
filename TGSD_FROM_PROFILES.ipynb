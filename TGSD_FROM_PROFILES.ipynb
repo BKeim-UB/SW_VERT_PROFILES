{
 "cells": [
  {
   "cell_type": "markdown",
   "id": "079b4847",
   "metadata": {},
   "source": [
    "## TGSD_FROM_PROFILES\n",
    "\n",
    "20 FEB, 2022"
   ]
  },
  {
   "cell_type": "markdown",
   "id": "12c541aa",
   "metadata": {},
   "source": [
    "This script containtains 3 functions written within it:\n",
    "\n",
    "$\\textbf{settling_velocity()}$ , $\\textbf{avg_profiles_mix()}$ ,  $\\textbf{TGSD()}$, and  $\\textbf{part_dens()}$\n",
    "\n",
    "Which are used to compute the flow properties to obtain the following:\n",
    "\n",
    "• Mixture Density\n",
    "\n",
    "• Depth Averaged Volumetric Concentation\n",
    "\n",
    "• The total grain size distribution (TGSD)\n",
    "\n",
    "• the particle density based on the volume fraction, and phi scale \n",
    "\n",
    "• $d_{bl}$, the height of the boundary between the logarithmic profile which exists from $y = 0 $ to $y = d_{bl}$ and the free stream profile, which runs from $y = d_{bl}$ to the top of the flow at $y = H$\n",
    " "
   ]
  },
  {
   "cell_type": "markdown",
   "id": "d2142dea",
   "metadata": {},
   "source": [
    "Much of this script is the same as the $\\textbf{Search_u_avg()}$ notebook, with updates for the $\\textbf{TGSD()}$, and  $\\textbf{part_dens()}$ to better understand the sedimentation and deposition of particles within different phi classes"
   ]
  },
  {
   "cell_type": "code",
   "execution_count": 70,
   "id": "7b7a1128",
   "metadata": {},
   "outputs": [],
   "source": [
    "# Import Libraries\n",
    "\n",
    "import scipy.special as sc\n",
    "from mpmath import * ; mp.dps = 15 ; mp.pretty = True\n",
    "import numpy as numpy              # np is a variable name so we use the full name here \n",
    "import matplotlib.pyplot as plt    # used for plots\n",
    "from scipy.special import lambertw # imports the lambert function and returns complex result\n",
    "from scipy import integrate        # allows us to use the exponential integral function\n",
    "from scipy.stats import norm\n",
    "\n",
    "# Usage Example: norm.cdf()\n",
    "# Usage Example: lambertw()\n",
    "# Usage Example: sc.expi()\n",
    "\n"
   ]
  },
  {
   "cell_type": "code",
   "execution_count": null,
   "id": "4a782c4b",
   "metadata": {},
   "outputs": [],
   "source": []
  },
  {
   "cell_type": "markdown",
   "id": "a3a35975",
   "metadata": {},
   "source": [
    "# Functions\n",
    "\n",
    "The function $\\textit{Settling_Velocity()}$ in the following block takes the inputs: \n",
    "\n",
    "• rhos - The density of each component of the the solid phase $\\left(\\frac{kg}{m^3}\\right)$\n",
    "\n",
    "• rhog - The density of the gaseous phase $\\left(\\frac{kg}{m^3}\\right)$\n",
    "\n",
    "• diam - The diameter of each class of particles (meters)\n",
    "\n",
    "• grav - The gravitational Constant - 9.81 $\\left(\\frac{m}{s^2}\\right)$\n",
    "\n",
    "• kin_visc - The Kinematic Viscosity (units)\n",
    "\n",
    "\n",
    "If the density of the solid phase is less than the gasous phase, a check is included which sets the settling velocity to 0. \n",
    "\n",
    "Otherwise, the settling velocity is computed via the following:\n",
    "\n",
    "\n"
   ]
  },
  {
   "cell_type": "code",
   "execution_count": 71,
   "id": "1c4e523f",
   "metadata": {},
   "outputs": [],
   "source": [
    "# Settling Velocity\n",
    "\n",
    "def settling_velocity(rhos,rhog,diam,grav,kin_visc):\n",
    "    inv_sqrt_C_D = 1.0\n",
    "    settl_vel = numpy.zeros_like(rhos)\n",
    "    for i in range(0,len(phi)):\n",
    "        \n",
    "        if rhos[i] <= rhog: \n",
    "            settl_vel[i] = 0.0\n",
    "           \n",
    "        else:    \n",
    "\n",
    "            const_part =  numpy.sqrt( 0.75 * ( rhos[i] / rhog - 1.0 ) * diam[i] * grav )\n",
    "            settl_vel[i] = const_part * inv_sqrt_C_D\n",
    "            Rey = diam[i] * settl_vel[i] / kin_visc\n",
    "\n",
    "            for j in range(20):\n",
    "                inv_sqrt_C_D = numpy.sqrt( Rey / ( 24.0 * ( 1.0 + 0.15*Rey**0.687 ) ) )\n",
    "                settl_vel[i] = const_part * inv_sqrt_C_D;\n",
    "                Rey = diam[i] * settl_vel[i] / kin_visc\n",
    "                \n",
    "    return settl_vel\n",
    "    "
   ]
  },
  {
   "cell_type": "code",
   "execution_count": 72,
   "id": "e8765c41",
   "metadata": {},
   "outputs": [],
   "source": [
    "# Total Grain Size Distribution\n",
    "\n",
    "def TGSD(mu,sig,phi):\n",
    "    n_bins = len(phi)\n",
    "    xs = norm.cdf(0.5*(phi[0:len(phi)-1]+phi[1:len(phi)]),mu,sig) # a\n",
    "    xs = numpy.append(xs,[1])                                     # b\n",
    "    xs[1:len(phi)] = numpy.diff(xs)                                # c\n",
    "    return xs\n"
   ]
  },
  {
   "cell_type": "code",
   "execution_count": 73,
   "id": "e1ebbf74",
   "metadata": {},
   "outputs": [],
   "source": [
    "# Particle Density Computation\n",
    "\n",
    "def part_dens(phi,phi1,rho1,phi2,rho2):\n",
    "    # rhos = rho1*(phi<phi1)+(phi>=phi1)*(rho1+(rho2-rho1)*numpy.minimum(1.0,(phi-phi1)/(phi2-phi1)))\n",
    "    \n",
    "    # The beggining portion returns a list of 0's for (phi<phi1), and a list of 1's for phi >= phi1\n",
    "    # in matlab. I've removed them for this python code temporarily \n",
    "    \n",
    "    rhos = rho1*(phi<phi1)+(phi>=phi1)*(rho1+(rho2-rho1)*numpy.minimum(1.0,(phi-phi1)/(phi2-phi1)))\n",
    "    return rhos\n"
   ]
  },
  {
   "cell_type": "code",
   "execution_count": 74,
   "id": "ec93bab8",
   "metadata": {},
   "outputs": [],
   "source": [
    "# Compute average profiles\n",
    "\n",
    "def avg_profiles_mix(h,settl_vel,k,friction_coeff,rhoalpha_avg,u_guess,beta,h0,b,u_coeff,u_rel0,rhos,rhog):\n",
    "\n",
    "    u_star        = u_guess * numpy.sqrt(friction_coeff)\n",
    "    Pn            = settl_vel / ( k * u_star )\n",
    "    np            = len(settl_vel)\n",
    "    rho_u_alphas  = numpy.zeros(np)\n",
    "    rhoalphas_int = numpy.zeros(np)\n",
    "\n",
    "    for i in range(len(settl_vel)):\n",
    "\n",
    "        a              = -(6.0*Pn[i]*beta)/h\n",
    "        a = -Pn[i]*beta / ((k_s/30)/2 + h/6.0)\n",
    "        int_           = ( ( numpy.exp(a*h0) -1.0 )/a + numpy.exp(a*h0)*(h-h0) )/h\n",
    "        \n",
    "        alphas_rel_max = 1.0/int_\n",
    "        alphas_rel0 = alphas_rel_max * numpy.exp(a*h0)\n",
    "    \n",
    "        rhoalphas_int[i] = rhoalpha_avg[i] * ( alphas_rel_max * ( numpy.exp(a*h0) - 1.0 ) / a + (h-h0)*alphas_rel0 ) / h  \n",
    "\n",
    "        y = h0\n",
    "        int_h0 = ( numpy.exp(a*y)*numpy.log(b*y+1.0) + numpy.exp(-a/b) * sc.exp1( -a*(y+1.0/b) ) ) / a\n",
    "        \n",
    "        y = 0\n",
    "        int_0 = ( numpy.exp(a*y)*numpy.log(b*y+1.0) + numpy.exp(-a/b) * sc.exp1( -a*(y+1.0/b) ) ) / a\n",
    "        \n",
    "        int_def = u_coeff * numpy.sqrt(friction_coeff) / k * alphas_rel_max * (int_h0-int_0)\n",
    "        \n",
    "        \n",
    "        rho_u_alphas[i] = rhoalpha_avg[i] * u_guess * ( int_def + ( h - h0 ) * alphas_rel0 * u_rel0 ) / h\n",
    "    \n",
    "    rhom_avg = rhog + sum((rhos-rhog)/rhos*rhoalphas_int)\n",
    "    uRho_avg_new = ( u_guess*rhog + sum((rhos-rhog)/rhos*rho_u_alphas) )\n",
    "    \n",
    "    return rhom_avg,uRho_avg_new"
   ]
  },
  {
   "cell_type": "code",
   "execution_count": 75,
   "id": "1967c3d6",
   "metadata": {},
   "outputs": [],
   "source": [
    "# Line by line verification of TGSD\n",
    "\n",
    "# xs = norm.cdf(0.5*(phi[0:len(phi)-1]+phi[1:len(phi)]),mu,sig)\n",
    "# print(xs) # a\n",
    "# print('')\n",
    "\n",
    "# xs = numpy.append(xs,[1])\n",
    "# print(xs) # b\n",
    "# print('')\n",
    "\n",
    "# xs[1:len(xs)] = numpy.diff(xs)\n",
    "# print(xs) # c\n",
    "# print('')\n",
    "\n",
    "# print(len(xs)) # check for settl_vel"
   ]
  },
  {
   "cell_type": "markdown",
   "id": "00395967",
   "metadata": {},
   "source": [
    "    "
   ]
  },
  {
   "cell_type": "markdown",
   "id": "7bdd739e",
   "metadata": {},
   "source": [
    "# Code and Outputs"
   ]
  },
  {
   "cell_type": "code",
   "execution_count": 76,
   "id": "1700a22d",
   "metadata": {},
   "outputs": [
    {
     "name": "stdout",
     "output_type": "stream",
     "text": [
      "\n"
     ]
    }
   ],
   "source": [
    "rel_tol = 1.e-10 \n",
    "abs_tol = 1.e-8 \n",
    "\n",
    "print('')\n",
    "# this (when multiplied by h) is one of the conservative variable of the system of PDEs.\n",
    "uRho_avg = 50.0     # depth-averaged u(z)*rhom(z)  [kg/(m2 s)]\n",
    "\n",
    "# computed by dividing the first conservative variable by mixture density\n",
    "h = 20.00            # flow thickness [m]\n",
    "\n",
    "# Total volumetric fraction of solid particles\n",
    "alphas_tot = 0.005\n",
    "\n",
    "# The TGSD is defined by a normal distribution in the phi scale\n",
    "# Parameters of the normal TGSD\n",
    "mu = 2\n",
    "sig = 1.0\n",
    "\n",
    "# Here we define the classes of particle sizes\n",
    "phi_min = -1\n",
    "phi_max = 5\n",
    "np = 10\n",
    "phi = numpy.linspace(phi_min,phi_max,np)"
   ]
  },
  {
   "cell_type": "code",
   "execution_count": 77,
   "id": "324af3e0",
   "metadata": {},
   "outputs": [
    {
     "name": "stdout",
     "output_type": "stream",
     "text": [
      "Mixture density computed from mass fractions (kg/m3)                    = 10.672932611743466\n",
      "Depth-averaged alpha(1) computed from mass fractions [ 1 ]              = 2.9587937213e-05\n",
      "Depth-averaged alpha(1) computed from mass fractions [ 2 ]              = 0.000129443974021\n",
      "Depth-averaged alpha(1) computed from mass fractions [ 3 ]              = 0.000420352510132\n",
      "Depth-averaged alpha(1) computed from mass fractions [ 4 ]              = 0.000898152461792\n",
      "Depth-averaged alpha(1) computed from mass fractions [ 5 ]              = 0.001261028484048\n",
      "Depth-averaged alpha(1) computed from mass fractions [ 6 ]              = 0.001162124289221\n",
      "Depth-averaged alpha(1) computed from mass fractions [ 7 ]              = 0.000702191924674\n",
      "Depth-averaged alpha(1) computed from mass fractions [ 8 ]              = 0.000298068143548\n",
      "Depth-averaged alpha(1) computed from mass fractions [ 9 ]              = 8.2373438014e-05\n",
      "Depth-averaged alpha(1) computed from mass fractions [ 10 ]              = 1.6676837338e-05\n",
      "Total solid depth-averaged volume fraction computed from mass fractions = 0.004999999999999999\n",
      "Log region thickness (meters)    = 7.1162460797028\n"
     ]
    }
   ],
   "source": [
    "# Relative mass fractions of the particle classes (sum=1)\n",
    "xs_rel = TGSD(mu,sig,phi)\n",
    "\n",
    "# gas density can be computed from mixture temperature, which is obtained from the \n",
    "# conservative variables ( T = (h*rhom*Cv*T)/(Cv*h*rhom) )\n",
    "rhog = 1.1           # [kg/m3]\n",
    "kin_visc = 1.48e-5   # [m2/s]\n",
    "grav = 9.81          # [m/s2]\n",
    "\n",
    "# Particle Densities and diameters (phi)\n",
    "phi1 = -2\n",
    "rho1 = 1000.0\n",
    "phi2 = 3\n",
    "rho2 = 2200.0\n",
    "rhos = part_dens(phi,phi1,rho1,phi2,rho2)\n",
    "\n",
    "# Average density of solid particles [kg/m3]\n",
    "rhos_tot = 1.0 / (sum(xs_rel/rhos))\n",
    "\n",
    "# particles diameters [m]\n",
    "diam = (1.0e-3)*2**(-phi)\n",
    "\n",
    "# particles settling velocities [m/s]\n",
    "settl_vel = settling_velocity(rhos,rhog,diam,grav,kin_visc) \n",
    "\n",
    "# fixed parameters\n",
    "k = 0.4                 # Von Karman constant\n",
    "friction_coeff = 0.01   # friction coefficient\n",
    "k_s = 1.5               # substrate roughness [m] \n",
    "beta = 1.0              # ratio of momentum and mass diffusivity (Schmidt number)\n",
    "\n",
    "\n",
    "# gas  mass fraction ;  # mixture density\n",
    "# xg = 1.0 - sum(xs) ;  #rhom = 1.0/ ( xg/rhog + sum(xs/rhos) ) \n",
    "\n",
    "rhom   = alphas_tot*rhos_tot + ( 1.0 - alphas_tot ) * rhog\n",
    "xs_tot = alphas_tot*rhos_tot / rhom\n",
    "xs     = xs_rel*xs_tot\n",
    "\n",
    "print('Mixture density computed from mass fractions (kg/m3)',\n",
    "      '                   =',rhom)\n",
    "\n",
    "# depth-averaged volumetric fractions\n",
    "alpha_avg = xs/rhos*rhom     \n",
    "\n",
    "for i in range(0,np):\n",
    "    print('Depth-averaged alpha(1) computed from mass fractions','[',i+1,']',\n",
    "          '             =',round(alpha_avg[i],15))\n",
    "    \n",
    "print('Total solid depth-averaged volume fraction computed from mass fractions =',\n",
    "      sum(alpha_avg))\n",
    "\n",
    "# this is the depth-averaged value of rhos*alpha(z), which is equal to the\n",
    "# depth-averaged  value  of xs*rhom(z). So it is the conservative variable \n",
    "# used for the solid mass divided by h.\n",
    "rhoAlpha_avg = rhos*alpha_avg \n",
    "\n",
    "# H_crit is a critical thickness above  which there is a constant free stream velocity.\n",
    "# Below  H_crit  we  only  have  the  log  profile. H_crit is a function of k, k_s and \n",
    "# friction_coeff only. H_crit_rel  is  the  non-dimensional crtitical thickness, which \n",
    "# depends on k and the friction coefficient only\n",
    "\n",
    "a = k/numpy.sqrt(friction_coeff)+1.0 \n",
    "H_crit_rel = numpy.real(1.0/30.0 * ( -a / lambertw(-a*numpy.exp(-a)) -1.0 ))\n",
    "print('Log region thickness (meters)    =',\n",
    "     round( H_crit_rel*k_s,13)) "
   ]
  },
  {
   "cell_type": "code",
   "execution_count": 78,
   "id": "b2cc1504",
   "metadata": {},
   "outputs": [],
   "source": [
    "# The profile parameters depend on h/k_s, not on the absolute value of h.\n",
    "h_rel = h/k_s \n",
    "\n",
    "if (h_rel > H_crit_rel):\n",
    "\n",
    "    # we search for h0_rel such that the average integral between 0 and\n",
    "    # h_rel is equal to 1 For h_rel > H_crit_rel  this  integral is the \n",
    "    # sum of  two  pieces:  integral  between  0  and h0_rel of the log \n",
    "    # profile integral between h0_rel and h_rel of  the costant profile\n",
    "\n",
    "    a = h_rel * k/numpy.sqrt(friction_coeff) \n",
    "    b = 1.0/30.0 + h_rel \n",
    "    c = 30.0 \n",
    "\n",
    "    # solve b*log(c*z+1)-z=a for z\n",
    "    d = a/b-1.0/(b*c) \n",
    "\n",
    "    h0_rel = numpy.real(-b*lambertw( -numpy.exp(d)/(b*c) ) - 1.0 / c )\n",
    "    u_coeff = 1.0 \n",
    "\n",
    "else:\n",
    "\n",
    "    # when h_rel <= H_crit_rel we have only the log profile and we have to\n",
    "    # rescale it in order to have the integral between o and h_rel equal to 1\n",
    "    # The factor used to scale the velocity is u_coeff\n",
    "\n",
    "    h0_rel = h_rel \n",
    "    u_coeff = k/numpy.sqrt(friction_coeff)/( ( 1 + 1/(30*h_rel) )*numpy.log( 30.0*h_rel + 1.0 )-1.0) \n",
    "\n",
    "h0 = h0_rel*k_s \n",
    "b = 30.0/k_s \n",
    "u_rel0 = u_coeff * numpy.sqrt(friction_coeff) / k * numpy.log( b*h0 + 1.0 )    "
   ]
  },
  {
   "cell_type": "code",
   "execution_count": 79,
   "id": "4febd948",
   "metadata": {},
   "outputs": [
    {
     "name": "stdout",
     "output_type": "stream",
     "text": [
      "\n",
      "Iteration # 1 –––> u_guess = 6.42158269921553  m/s\n",
      "Iteration # 2 –––> u_guess = 6.37776708381407  m/s\n",
      "Iteration # 3 –––> u_guess = 6.37774712033675  m/s\n",
      "\n",
      "                     –––––––                      \n",
      "****************** Ending Loop *******************\n",
      "******** WARNING: denominator is too small *******\n",
      "                     –––––––                      \n",
      "                                                         \n",
      "Total Iterations           =  3\n",
      "u_final                    =  6.377747120333 m/s\n",
      "Depth-averaged rho         =  10.672932611743 kg/m3\n"
     ]
    }
   ],
   "source": [
    "# search convergence of u_avg\n",
    "n = 200\n",
    "\n",
    "u_avg_guess = uRho_avg / rhom \n",
    "x0 = u_avg_guess \n",
    "\n",
    "\n",
    "# loop to compute the average velocity from average rho*alpha and average \n",
    "# uRho ( = 1/h*int( u*rhog*alphag + sum[u*rhos(i)*alphas(i)] ) ) \n",
    "print()\n",
    "#     avg_profiles_mix function returns ([rhom_avg,uRho_avg_new])\n",
    "\n",
    "for i in range(0,n):\n",
    "    \n",
    "    x0 = u_avg_guess \n",
    "    \n",
    "    rhom_avg,uRho_avg_new = avg_profiles_mix(h,settl_vel,k,friction_coeff,rhoAlpha_avg,\n",
    "                                             u_avg_guess,beta,h0,b,u_coeff,u_rel0,rhos,rhog)\n",
    "\n",
    "    u_avg_new = u_avg_guess * uRho_avg / ( uRho_avg_new) \n",
    "\n",
    "    x1 = u_avg_new \n",
    "\n",
    "    rhom_avg,uRho_avg_new = avg_profiles_mix(h,settl_vel,k,friction_coeff,rhoAlpha_avg,\n",
    "                                             u_avg_new,beta,h0,b,u_coeff,u_rel0,rhos,rhog)\n",
    "    \n",
    "    u_avg_new = u_avg_new * uRho_avg / ( uRho_avg_new) \n",
    "     \n",
    "    x2 = u_avg_new \n",
    "\n",
    "    if (x1 != x0):\n",
    "        lambda_ = abs((x2 - x1)/(x1 - x0))   #OPTIONAL: Computes an approximation of |f'(fixedPoint)|, which is denoted by lambda\n",
    "\n",
    "    denominator = (x2 - x1) - (x1 - x0) \n",
    "    \n",
    "    if (abs(denominator) < 0.1*abs_tol):        #To avoid greatly increasing error, do not divide by too small of a number\n",
    "        print('')\n",
    "        print('                     –––––––                      ')\n",
    "        print('****************** Ending Loop *******************')\n",
    "        print('******** WARNING: denominator is too small *******')\n",
    "        break                                       #Leave the loop\n",
    "\n",
    "    aitkenX = x2 - ( (x2 - x1)**2 )/denominator \n",
    "\n",
    "    u_avg_new = aitkenX    \n",
    "\n",
    "    if ( abs(u_avg_guess-u_avg_new)/u_avg_guess < rel_tol ) or ( abs(u_avg_guess-u_avg_new) < abs_tol ):\n",
    "        u_avg_guess = u_avg_new \n",
    "        \n",
    "    u_avg_guess = u_avg_new \n",
    "\n",
    "    print('Iteration #',i+1, '–––> u_guess =',round(u_avg_new,14), ' m/s')\n",
    "\n",
    "   \n",
    "print('                     –––––––                      '       ) \n",
    "print('                                                         ')\n",
    "print('Total Iterations           = ',                        i  )\n",
    "print('u_final                    = ',round(u_avg_new,13),'m/s'  ) \n",
    "print('Depth-averaged rho         = ',round(rhom_avg,12 ),'kg/m3')\n",
    "\n",
    "# average velocity\n",
    "u_avg = u_avg_new \n",
    "\n",
    "# shear velocty\n",
    "u_star = u_avg * numpy.sqrt(friction_coeff) \n",
    "\n",
    "# Rouse numbers for different particles\n",
    "Pn = settl_vel / ( k * u_star ) "
   ]
  },
  {
   "cell_type": "code",
   "execution_count": 80,
   "id": "34be080b",
   "metadata": {},
   "outputs": [
    {
     "name": "stdout",
     "output_type": "stream",
     "text": [
      "\n",
      "Depth-averaged u (m/s)            =  6.377747120332986\n",
      "(rho*u)_avg / (rho_avg*u_avg)     =  0.734545904543175\n",
      "Depth-averaged alphas [ 0 ]       =  2.9587937213e-05\n",
      "Depth-averaged alphas [ 1 ]       =  0.000129443974021\n",
      "Depth-averaged alphas [ 2 ]       =  0.000420352510132\n",
      "Depth-averaged alphas [ 3 ]       =  0.000898152461792\n",
      "Depth-averaged alphas [ 4 ]       =  0.001261028484048\n",
      "Depth-averaged alphas [ 5 ]       =  0.001162124289221\n",
      "Depth-averaged alphas [ 6 ]       =  0.000702191924674\n",
      "Depth-averaged alphas [ 7 ]       =  0.000298068143548\n",
      "Depth-averaged alphas [ 8 ]       =  8.2373438014e-05\n",
      "Depth-averaged alphas [ 9 ]       =  1.6676837338e-05\n",
      "Depth-averaged u*alpha            =  0.021732367098807\n",
      "Depth-averaged u*rho (kg m-2 s-1) =  50.000000000004285 kg m-2 s-1\n"
     ]
    }
   ],
   "source": [
    "## Check for average values, computed from u_avg and alpha_avg(i) \n",
    "\n",
    "# average velocity computed as integral of the profile\n",
    "U_int = ( u_avg * ( u_coeff * numpy.sqrt(friction_coeff) / k * ( (h0 + 1.0/b)*numpy.log(b*h0+1)-h0 ) + (h-h0)*u_rel0 ) ) / h \n",
    "\n",
    "print()\n",
    "print('Depth-averaged u (m/s)            = ',round(U_int,15)) \n",
    "print('(rho*u)_avg / (rho_avg*u_avg)     = ',round(uRho_avg/(rhom_avg*U_int),15)) \n",
    "\n",
    "uAlpha_int    = numpy.zeros(np) \n",
    "uRhoAlpha_int = numpy.zeros(np) \n",
    "\n",
    "for i in range(0,np):\n",
    "\n",
    "    a    = -(6.0*Pn[i]*beta)/h \n",
    "    a = -Pn[i]*beta / ((k_s/30)/2 + h/6.0)\n",
    "    int_ =  ( ( numpy.exp(a*h0) -1.0 )/a + numpy.exp(a*h0)*(h-h0) )/h \n",
    "\n",
    "    alpha_rel_max = 1.0/int_ \n",
    "    alpha_rel0    = alpha_rel_max * numpy.exp(a*h0) \n",
    "\n",
    "    # average concentration of particle class i\n",
    "    alpha_int = alpha_avg[i] * ( alpha_rel_max * ( numpy.exp(a*h0) - 1.0 ) / a + (h-h0)*alpha_rel0 ) / h   \n",
    "\n",
    "    print('Depth-averaged alphas [',i,']       = ' , round(alpha_int,15))\n",
    "    \n",
    "    y = h0 \n",
    "    int_h0 = ( numpy.exp(a*y)*numpy.log(b*y+1.0) + numpy.exp(-a/b) * sc.exp1( -a*(y+1.0/b) ) ) / a \n",
    "    \n",
    "    y = 0 \n",
    "    int_0 =  ( numpy.exp(a*y)*numpy.log(b*y+1.0) + numpy.exp(-a/b) * sc.exp1( -a*(y+1.0/b) ) ) / a \n",
    "\n",
    "    int_def = u_coeff * numpy.sqrt(friction_coeff) / k * alpha_rel_max * (int_h0-int_0) \n",
    "    \n",
    "    # average of u*alphas(i)\n",
    "    uAlpha_int[i]    = u_avg   * alpha_avg[i] *         ( int_def + ( h - h0 ) * alpha_rel0 * u_rel0 ) / h \n",
    "    uRhoAlpha_int[i] = rhos[i] * alpha_avg[i] * u_avg * ( int_def + ( h - h0 ) * alpha_rel0 * u_rel0 ) / h \n",
    "    \n",
    "\n",
    "uAlpha_int_tot    = sum(uAlpha_int   ) \n",
    "uRhoAlpha_int_tot = sum(uRhoAlpha_int) \n",
    "rho_u_int_tot     = rhog*U_int + sum((rhos-rhog)/rhos*uRhoAlpha_int) \n",
    "\n",
    "print('Depth-averaged u*alpha            = ',round(uAlpha_int_tot,15)    )\n",
    "print('Depth-averaged u*rho (kg m-2 s-1) = ', rho_u_int_tot, 'kg m-2 s-1')"
   ]
  },
  {
   "cell_type": "code",
   "execution_count": 81,
   "id": "1f19c385",
   "metadata": {
    "scrolled": true
   },
   "outputs": [
    {
     "name": "stdout",
     "output_type": "stream",
     "text": [
      "(alpha_bottom [ 0 ]) / (alpha_avg [ 0 ]) = 137.95498556270488\n",
      "(alpha_bottom [ 1 ]) / (alpha_avg [ 1 ]) = 100.82773208924472\n",
      "(alpha_bottom [ 2 ]) / (alpha_avg [ 2 ]) = 71.79541420817587\n",
      "(alpha_bottom [ 3 ]) / (alpha_avg [ 3 ]) = 48.5338705156962\n",
      "(alpha_bottom [ 4 ]) / (alpha_avg [ 4 ]) = 27.561718744687717\n",
      "(alpha_bottom [ 5 ]) / (alpha_avg [ 5 ]) = 11.334518173009855\n",
      "(alpha_bottom [ 6 ]) / (alpha_avg [ 6 ]) = 4.343816440397595\n",
      "(alpha_bottom [ 7 ]) / (alpha_avg [ 7 ]) = 2.0511291034531585\n",
      "(alpha_bottom [ 8 ]) / (alpha_avg [ 8 ]) = 1.3714932824428407\n",
      "(alpha_bottom [ 9 ]) / (alpha_avg [ 9 ]) = 1.140131024614108\n"
     ]
    }
   ],
   "source": [
    "nz = 100000\n",
    "z = numpy.linspace(0,h,nz+1)\n",
    "dz = h/nz\n",
    "\n",
    "# u_rel is the velocity profile with depth-average equal to 1 when u_rel is multiplied by \n",
    "# u the depth-averaged value is the desired one u_rel is defined for 0<=z<=h_rel, thus it \n",
    "# is  defined  for  the  rescaled  depth.  This  does  not affect the depth-average value\n",
    "\n",
    "u_rel = u_coeff * numpy.sqrt(friction_coeff) /k * numpy.log( 30.0/k_s*numpy.minimum(h0,z) + 1.0 )\n",
    "\n",
    "# u_rel_half = 0.5*(u_rel(2:end)+u_rel(1:end-1))\n",
    "\n",
    "uualpha = 0.0*u_rel\n",
    "\n",
    "\n",
    "p_dyn         = 0.0 * u_rel\n",
    "alphas_bottom = numpy.zeros( np )\n",
    "alphag        = 1.0 - 0.0 * z\n",
    "\n",
    "\n",
    "for i in range(0,np):\n",
    "\n",
    "    a             = -(6.0*Pn[i]*beta)/h\n",
    "    a = -Pn[i]*beta / ((k_s/30)/2 + h/6.0)\n",
    "    # print(a)\n",
    "    int_          = ( ( numpy.exp(a*h0) -1.0 )/a + numpy.exp(a*h0)*(h-h0) )/h\n",
    "    alpha_rel_max = 1.0/int_\n",
    "    alphas_bottom[i] = alpha_rel_max * alpha_avg[i]\n",
    "\n",
    "    print('(alpha_bottom [',i,'])','/ (alpha_avg [',i,'])','=',alpha_rel_max)\n",
    "\n",
    "    alpha_rel = alpha_rel_max * numpy.exp(a*(numpy.minimum(h0,z)))\n",
    "    \n",
    "    alphag = alphag - alpha_rel * alpha_avg[i]\n",
    "\n",
    "    p_dyn  = p_dyn + 0.5 * ( alpha_rel*alpha_avg[i]*rhos[i] )*(u_avg*u_rel)*(u_avg*u_rel)\n",
    "\n",
    "    # alpha_rel_half = 0.5 * ( alpha_rel(2:end)+alpha_rel(1:end-1));\n",
    "    # uualpha   = uualpha + (u_avg*u_rel)*(u_avg*u_rel)*(alpha_avg[i]*alpha_rel)\n",
    "    \n",
    "p_dyn = p_dyn + 0.5 * ( alphag * rhog ) * ( u_avg * u_rel ) * ( u_avg * u_rel )"
   ]
  },
  {
   "cell_type": "code",
   "execution_count": 82,
   "id": "663fdb4e",
   "metadata": {},
   "outputs": [],
   "source": [
    "#print('beta = ' , beta)\n",
    "#print('a        ='  , a  )\n",
    "#print('h0       = ' , h0 )\n",
    "#print('e^(a*h0) = ' , numpy.exp(a*h0))\n",
    "#print('e^1      = ' , numpy.exp(1))\n",
    "#print('e^(-1)   = ' , numpy.exp(-1))"
   ]
  },
  {
   "cell_type": "code",
   "execution_count": 83,
   "id": "3ecdc524",
   "metadata": {},
   "outputs": [
    {
     "name": "stdout",
     "output_type": "stream",
     "text": [
      "Depth-averaged u*u*c = 0.37357864723008877 (m^2)/(s^2)\n"
     ]
    }
   ],
   "source": [
    "uuAlpha_avg = 0.0\n",
    "\n",
    "for i in range(0,np):\n",
    "\n",
    "    a    = -(6.0*Pn[i]*beta)/h\n",
    "    a = -Pn[i]*beta / ((k_s/30)/2 + h/6.0)\n",
    "    int_ =  ( ( numpy.exp(a*h0) -1.0 )/a + numpy.exp(a*h0)*(h-h0) )/h\n",
    "\n",
    "    alpha_rel_max = 1.0/int_\n",
    "\n",
    "    # use use a quadrature formula for the log region\n",
    "    f           = lambda z: numpy.exp(a*z) * ( numpy.log( 30.0/k_s*z + 1.0 ) )**2\n",
    "    uuAlpha_avg = uuAlpha_avg + ( alpha_rel_max * u_coeff * numpy.sqrt(friction_coeff)/ k * integrate.quadrature(f,0,h0)[0] + u_rel0*u_rel0*alpha_rel0 * ( h-h0 ) ) * alpha_avg[i]*u_avg**2 / h\n",
    "\n",
    "print('Depth-averaged u*u*c =',uuAlpha_avg,'(m^2)/(s^2)')"
   ]
  },
  {
   "cell_type": "code",
   "execution_count": 84,
   "id": "c613eb20",
   "metadata": {},
   "outputs": [
    {
     "name": "stdout",
     "output_type": "stream",
     "text": [
      "Mean size at bottom = 1.1281581039419695\n"
     ]
    }
   ],
   "source": [
    "\n",
    "rhom_bottom   = sum( alphas_bottom * rhos ) + ( 1.0 - sum( alphas_bottom )) * rhog # Mixture density at the bottom\n",
    "xs_bottom     =    ( alphas_bottom * rhos ) / rhom_bottom # Solid mass fractions (in the mixture) at the bottom\n",
    "xg_bottom     = 1.0 - sum( xs_bottom )                    # Gas mass fraction (in the mixture) at the bottom\n",
    "xs_rel_bottom = xs_bottom / ( 1.0 - xg_bottom )           # Relative solid mass fractions at the bottom (sum=1 => TGSD)\n",
    "\n",
    "# Mean size of TGSD at the bottom\n",
    "mu_bottom = sum( phi * xs_rel_bottom )\n",
    "print( 'Mean size at bottom =' , mu_bottom )\n"
   ]
  },
  {
   "cell_type": "code",
   "execution_count": 85,
   "id": "7b6d69f6",
   "metadata": {},
   "outputs": [
    {
     "name": "stdout",
     "output_type": "stream",
     "text": [
      "Mean size lost at the base of the flow = phi \n",
      " 0.6901561330052328\n"
     ]
    }
   ],
   "source": [
    "# Rates of mass lost from the flow at the bottom (propirtional to density, \n",
    "# volume fraction at the bottom and settling velocity)\n",
    "xs_rel_lost = ( rhos * alphas_bottom * settl_vel )\n",
    "xs_rel_lost = ( xs_rel_lost / sum( xs_rel_lost ) ) # Normalization to have sum=1 (TGSD)\n",
    "\n",
    "# Mean side of TGSD lost at the base of the flow\n",
    "mu_lost = sum( phi * xs_rel_lost )\n",
    "\n",
    "print('Mean size lost at the base of the flow = phi \\n',mu_lost)"
   ]
  },
  {
   "cell_type": "code",
   "execution_count": 86,
   "id": "8ccc9218",
   "metadata": {},
   "outputs": [
    {
     "data": {
      "text/plain": [
       "(0.0, 20.0)"
      ]
     },
     "execution_count": 86,
     "metadata": {},
     "output_type": "execute_result"
    },
    {
     "data": {
      "image/png": "[encoded data removed]",
      "text/plain": [
       "<Figure size 1200x800 with 5 Axes>"
      ]
     },
     "metadata": {
      "needs_background": "light"
     },
     "output_type": "display_data"
    }
   ],
   "source": [
    "plt.rcParams['figure.figsize'] = [12, 8]\n",
    "plt.rcParams['figure.dpi'] = 100\n",
    "\n",
    "fig, (ax1, ax2, ax3, ax4, ax5) = plt.subplots(1, 5)\n",
    "\n",
    "nz = 100000\n",
    "z = numpy.linspace(0,h,num=nz+1)\n",
    "dz = h/nz\n",
    "\n",
    "\n",
    "u_rel = u_coeff * sqrt(friction_coeff) / k * numpy.log( 30.0/k_s*numpy.minimum(h0,z) + 1.0 )\n",
    "\n",
    "ax1.plot(u_avg*u_rel,z)\n",
    "\n",
    "ax1.set(xlabel='u [m/s]', ylabel='h [m]')\n",
    "\n",
    "ax1.set_ylim(0,h)\n",
    "\n",
    "for i in range(np):\n",
    "\n",
    "    a = -(6*Pn[i]*beta)/h\n",
    "    a = -Pn[i]*beta / ((k_s/30)/2 + h/6.0)\n",
    "\n",
    "    int_ = ( ( numpy.exp(a*h0) -1.0 )/a + numpy.exp(a*h0)*(h-h0) )/h\n",
    "\n",
    "    alpha_rel_max = 1.0/int_\n",
    "\n",
    "    alpha_rel = alpha_rel_max * numpy.exp(a*(numpy.minimum(h0,z)))\n",
    "\n",
    "    uualpha = uualpha + (u_avg*u_rel)*(u_avg*u_rel)*(alpha_avg[i]*alpha_rel)\n",
    "\n",
    "    ax2.plot(alpha_avg[i]*alpha_rel,z)\n",
    "\n",
    "    ax3.plot( (u_avg*u_rel) * (alpha_avg[i]*alpha_rel) ,z)\n",
    "   \n",
    "ax2.set(xlabel='alpha')\n",
    "ax2.set_ylim(0,h)\n",
    "\n",
    "ax3.set(xlabel='u*alpha')\n",
    "ax3.set_ylim(0,h)\n",
    "\n",
    "ax4.plot(uualpha,z)\n",
    "ax4.set(xlabel='u*u*alpha')\n",
    "ax4.set_ylim(0,h)\n",
    "\n",
    "\n",
    "ax5.plot(p_dyn,z)\n",
    "ax5.set(xlabel='P_{dyn} [Pa]')\n",
    "ax5.set_ylim(0,h)\n"
   ]
  },
  {
   "cell_type": "code",
   "execution_count": null,
   "id": "3ac360c8",
   "metadata": {},
   "outputs": [],
   "source": []
  },
  {
   "cell_type": "code",
   "execution_count": 87,
   "id": "c28dfd4e",
   "metadata": {},
   "outputs": [
    {
     "name": "stdout",
     "output_type": "stream",
     "text": [
      "Mean size at bottom = 1.1281581039419695\n"
     ]
    }
   ],
   "source": [
    "\n",
    "rhom_bottom   = sum( alphas_bottom * rhos ) + ( 1.0 - sum( alphas_bottom )) * rhog # Mixture density at the bottom\n",
    "xs_bottom     =    ( alphas_bottom * rhos ) / rhom_bottom # Solid mass fractions (in the mixture) at the bottom\n",
    "xg_bottom     = 1.0 - sum( xs_bottom )                    # Gas mass fraction (in the mixture) at the bottom\n",
    "xs_rel_bottom = xs_bottom / ( 1.0 - xg_bottom )           # Relative solid mass fractions at the bottom (sum=1 => TGSD)\n",
    "\n",
    "# Mean size of TGSD at the bottom\n",
    "mu_bottom = sum( phi * xs_rel_bottom )\n",
    "print( 'Mean size at bottom =' , mu_bottom )"
   ]
  },
  {
   "cell_type": "code",
   "execution_count": 88,
   "id": "7cc7debc",
   "metadata": {},
   "outputs": [
    {
     "name": "stdout",
     "output_type": "stream",
     "text": [
      "Mean size lost at the base of the flow = #e phi \n",
      " 0.6901561330052328\n"
     ]
    }
   ],
   "source": [
    "# Rates of mass lost from the flow at the bottom (propirtional to density, \n",
    "# volume fraction at the bottom and settling velocity)\n",
    "xs_rel_lost = ( rhos * alphas_bottom * settl_vel )\n",
    "xs_rel_lost = ( xs_rel_lost / sum( xs_rel_lost ) ) # Normalization to have sum=1 (TGSD)\n",
    "\n",
    "# Mean side of TGSD lost at the base of the flow\n",
    "mu_lost = sum( phi * xs_rel_lost )\n",
    "\n",
    "print('Mean size lost at the base of the flow = #e phi \\n',mu_lost)"
   ]
  },
  {
   "cell_type": "code",
   "execution_count": 89,
   "id": "ce468e83",
   "metadata": {},
   "outputs": [
    {
     "data": {
      "text/plain": [
       "<matplotlib.legend.Legend at 0x7fdb95c7c9d0>"
      ]
     },
     "execution_count": 89,
     "metadata": {},
     "output_type": "execute_result"
    },
    {
     "data": {
      "image/png": "[encoded data removed]",
      "text/plain": [
       "<Figure size 1200x800 with 1 Axes>"
      ]
     },
     "metadata": {
      "needs_background": "light"
     },
     "output_type": "display_data"
    }
   ],
   "source": [
    "# New figure for the different TGSDs\n",
    "fig\n",
    "barwidth =0.125\n",
    "\n",
    "phi_avg = phi\n",
    "phi_bottom = phi\n",
    "phi_lost = phi\n",
    "\n",
    "phi_avg    = phi - barwidth*(1.125)\n",
    "phi_bottom = phi\n",
    "phi_lost   = phi + barwidth*(1.125)\n",
    "\n",
    "\n",
    "plt.bar(phi_avg   ,xs_rel     ,label = 'Average' , width = barwidth , color = 'tab:blue' ) # [xs_rel',xs_rel_bottom',xs_rel_lost']\n",
    "plt.bar(phi_bottom,xs_bottom  ,label = 'Bottom'  , width = barwidth , color = 'orangered'   )\n",
    "plt.bar(phi_lost  ,xs_rel_lost,label = 'Lost'    , width = barwidth , color = 'gold' ,   )\n",
    "\n",
    "#Leg={'Average','Bottom','Lost'}\n",
    "#hLg=legend(Leg,'Location','northwest')\n",
    "plt.legend(loc = 'upper left')"
   ]
  },
  {
   "cell_type": "code",
   "execution_count": null,
   "id": "02b1ecc5",
   "metadata": {},
   "outputs": [],
   "source": []
  },
  {
   "cell_type": "code",
   "execution_count": null,
   "id": "0ae9e70c",
   "metadata": {},
   "outputs": [],
   "source": []
  }
 ],
 "metadata": {
  "kernelspec": {
   "display_name": "Python 3",
   "language": "python",
   "name": "python3"
  },
  "language_info": {
   "codemirror_mode": {
    "name": "ipython",
    "version": 3
   },
   "file_extension": ".py",
   "mimetype": "text/x-python",
   "name": "python",
   "nbconvert_exporter": "python",
   "pygments_lexer": "ipython3",
   "version": "3.7.6"
  }
 },
 "nbformat": 4,
 "nbformat_minor": 5
}
